{
  "cells": [
    {
      "cell_type": "markdown",
      "metadata": {
        "id": "O2RS5diuhXcV"
      },
      "source": [
        "# ***SPACE SHUTTLE ACCELERATION CALCULATOR***\n",
        "\n",
        "> ### **PROJECT MEMBER**\n",
        "*   11063 Muhammad Aashir Khan\n",
        "*   11409 Asfand Tariq\n",
        "*   12280 Saeed Waseem\n",
        "\n",
        "\n",
        "\n"
      ]
    },
    {
      "cell_type": "code",
      "execution_count": 73,
      "metadata": {
        "colab": {
          "base_uri": "https://localhost:8080/"
        },
        "id": "kUg-pGGT7pm2",
        "outputId": "006cb73a-3b27-4063-99a9-70ffc00c6d1c"
      },
      "outputs": [
        {
          "output_type": "stream",
          "name": "stdout",
          "text": [
            "=======================================================================================\n",
            "\n",
            "||                    Space Shuttle Acceleration Calculator:                         ||\n",
            "\n",
            "=======================================================================================\n",
            "Current Data for Space Shuttle \n",
            "=======================================================================================\n",
            "Pre-defined Data: \n",
            "=======================================================================================\n",
            "||   Velocities: \t|| 0   || 227.04  ||  362.78   ||   517.35    ||    602.97   ||\n",
            "||   Time Slots: \t|| 0   ||  10     ||   15      ||     20      ||     22.5    ||\n",
            "=======================================================================================\n",
            "Implementation Newton's Divided Difference Interpolation\n",
            "=======================================================================================\n",
            "0 \t||     22.704 \t||     0.29627 \t||     0.00402 \t||     6e-05 \t||      \n",
            "227.04 \t||     27.148 \t||     0.3766 \t||     0.00543 \t||      \n",
            "362.78 \t||     30.914 \t||     0.44453 \t||      \n",
            "517.35 \t||     34.248 \t||      \n",
            "602.97 \t||      \n",
            "Enter the value time in seconds :10\n",
            "=======================================================================================\n",
            "Estimated Velocity at  10.0  seconds is:   227.04\n",
            "Distance covered with Respect to this Speed:  2270.4\n",
            "Estimated Required Acceleration 22.704\n",
            "=======================================================================================\n"
          ]
        }
      ],
      "source": [
        "import numpy as np\n",
        "\n",
        "def mval(i,value,x):\n",
        "    pro = 1\n",
        "    for j in range(i):\n",
        "        pro = pro * (value-x[j]);\n",
        "    return pro;\n",
        "\n",
        "def NewtonDDiff(x,y,n):\n",
        "    for i in range(1,n):\n",
        "        for j in range(n-i):\n",
        "            y[j][i] = ((y[j+1][i-1] - y[j][i-1]) / (x[i+j] - x[j]));\n",
        "    return y;\n",
        "\n",
        "def interpolval(value,x,y,n):\n",
        "    sum = y[0][0];\n",
        "    for i in range(1,n):\n",
        "        sum = sum + (mval(i,value,x)*y[0][i]);\n",
        "    return sum;\n",
        "\n",
        "def printmatrix(y,n):\n",
        "    for i in range(n):\n",
        "        for j in range(n-i):\n",
        "            print(round(y[i][j],5),\"\\t||     \",end=\"\");\n",
        "        print(\" \");\n",
        "#no of values        \n",
        "n = 5;\n",
        "y = [[0 for i in range(10)]\n",
        "        for j in range(10)];\n",
        "\n",
        "#time slots...\n",
        "x = [0, 10, 15, 20, 22.5];\n",
        "print(\"=======================================================================================\")\n",
        "print('\\n||                    Space Shuttle Acceleration Calculator:                         ||\\n')\n",
        "print(\"=======================================================================================\")\n",
        "print(\"Current Data for Space Shuttle \")\n",
        "print(\"=======================================================================================\")\n",
        "print(\"Pre-defined Data: \")\n",
        "print(\"=======================================================================================\")\n",
        "y[0][0]=0;\n",
        "y[1][0]=227.04;\n",
        "y[2][0]=362.78;\n",
        "y[3][0]=517.35;\n",
        "y[4][0]=602.97;\n",
        "print(\"||   Velocities: \\t||\", y[0][0],'  ||', y[1][0],' || ', y[2][0],'  ||  ', y[3][0],'   ||   ', y[4][0], \"  ||\")\n",
        "print('||   Time Slots: \\t||', x[0], '  || ', x[1], '    ||  ', x[2], '     ||    ', x[3], '     ||    ', x[4], \"   ||\")\n",
        "print(\"=======================================================================================\")\n",
        "print(\"Implementation Newton's Divided Difference Interpolation\")\n",
        "print(\"=======================================================================================\")\n",
        "y=NewtonDDiff(x,y,n);\n",
        "\n",
        "printmatrix(y,n);\n",
        "val=float(input(\"Enter the value time in seconds :\"))\n",
        "\n",
        "if val < 0:\n",
        "    \n",
        "    value2=val\n",
        "#velocity\n",
        "delta=round(interpolval(value2,x,y,n),4)\n",
        "\n",
        "\n",
        "\n",
        "\n",
        "print(\"=======================================================================================\")\n",
        "print(\"Estimated Velocity at \",value2,\" seconds is:  \",delta);\n",
        "print(\"Distance covered with Respect to this Speed: \", value2*delta)\n",
        "\n",
        "print('Estimated Required Acceleration', delta/value2);\n",
        "print(\"=======================================================================================\")\n"
      ]
    },
    {
      "cell_type": "code",
      "execution_count": null,
      "metadata": {
        "id": "T7m2hv0su7wg"
      },
      "outputs": [],
      "source": [
        ""
      ]
    }
  ],
  "metadata": {
    "colab": {
      "collapsed_sections": [],
      "name": "NC PROJECT.ipynb",
      "provenance": []
    },
    "kernelspec": {
      "display_name": "Python 3",
      "name": "python3"
    },
    "language_info": {
      "name": "python"
    }
  },
  "nbformat": 4,
  "nbformat_minor": 0
}